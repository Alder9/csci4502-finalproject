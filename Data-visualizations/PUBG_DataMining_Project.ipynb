{
 "cells": [
  {
   "cell_type": "code",
   "execution_count": null,
   "metadata": {},
   "outputs": [],
   "source": [
    "#Load Datasets\n",
    "\n",
    "import pandas as pd\n",
    "import numpy as np\n",
    "\n",
    "\n",
    "print('Loading data sets...')\n",
    "print('Loading final player prediction data...')\n",
    "dfTr1 = pd.read_csv('PUBG_FinalPlayerPrediction_Data/train_V2.csv', dtype = {'Id':str, 'groupId':str, 'matchId':str, 'assists':float, 'boosts':float, 'damageDealt':float, 'DBNOs':float, 'headshotKills':float, 'heals':float, 'killPlace':float, 'killPoints':float, 'kills':float, 'killStreaks':float, 'longestKill':float, 'matchDuration':float, 'matchType':str, 'maxPlace':float, 'numGroups':float, 'rankPoints':float, 'revives':float, 'rideDistance':float, 'roadKills':float, 'swimDistance':float, 'teamKills':float, 'vehicleDestroys':float, 'walkDistance':float, 'weaponsAcquired':float, 'winPoints':float, 'winPlacePerc':float} ) #Training data set \n",
    "dfTe1 = pd.read_csv('PUBG_FinalPlayerPrediction_Data/test_V2.csv', dtype = {'Id':str, 'groupId':str, 'matchId':str, 'assists':float, 'boosts':float, 'damageDealt':float, 'DBNOs':float, 'headshotKills':float, 'heals':float, 'killPlace':float, 'killPoints':float, 'kills':float, 'killStreaks':float, 'longestKill':float, 'matchDuration':float, 'matchType':str, 'maxPlace':float, 'numGroups':float, 'rankPoints':float, 'revives':float, 'rideDistance':float, 'roadKills':float, 'swimDistance':float, 'teamKills':float, 'vehicleDestroys':float, 'walkDistance':float, 'weaponsAcquired':float, 'winPoints':float, 'winPlacePerc':float} ) #Test Data set included with training set\n",
    "print('Final player prediction data loaded.')\n",
    "\n",
    "print('Loading player death and aggregate data...')\n",
    "#dfA1 = pd.read_csv('PUBG_DeathAndAggregate_Data/agg_match_stats_1.csv', dtype = {'match_id':str, 'date':str, 'game_size':float, 'match_mode':str, 'party_size':float, 'player_name':str, 'team_id':str, 'team_placement':int, 'player_kills':float, 'player_dbno':float, 'player_assists':float, 'player_dmg':float, 'player_dist_ride':float, 'player_dist_walk':float} ) #Load aggregate data set for 1st aggregate data file\n",
    "#dfK1 = pd.read_csv('PUBG_DeathAndAggregate_Data/kill_match_stats_final_1.csv', dtype = {'killed_by':str, 'killer_name':str, 'killer_placement':float, 'killer_position_x':float, 'killer_position_y':float, 'map':str, 'match_id':str, 'victim_name':str, 'victim_placement':float, 'victim_position_x':float, 'victim_position_y':float} ) #Load kill data set for 1st kill data file\n",
    "#dfA2 = pd.read_csv('PUBG_DeathAndAggregate_Data/agg_match_stats_2.csv', dtype = {'match_id':str, 'date':str, 'game_size':float, 'match_mode':str, 'party_size':float, 'player_name':str, 'team_id':str, 'team_placement':int, 'player_kills':float, 'player_dbno':float, 'player_assists':float, 'player_dmg':float, 'player_dist_ride':float, 'player_dist_walk':float} ) #Load aggregate data set for 2nd aggregate data file\n",
    "#dfK2 = pd.read_csv('PUBG_DeathAndAggregate_Data/kill_match_stats_final_2.csv', dtype = {'killed_by':str, 'killer_name':str, 'killer_placement':float, 'killer_position_x':float, 'killer_position_y':float, 'map':str, 'match_id':str, 'victim_name':str, 'victim_placement':float, 'victim_position_x':float, 'victim_position_y':float} ) #Load kill data set for 2nd kill data file\n",
    "dfA3 = pd.read_csv('PUBG_DeathAndAggregate_Data/agg_match_stats_3.csv', dtype = {'match_id':str, 'date':str, 'game_size':float, 'match_mode':str, 'party_size':float, 'player_name':str, 'team_id':str, 'team_placement':int, 'player_kills':float, 'player_dbno':float, 'player_assists':float, 'player_dmg':float, 'player_dist_ride':float, 'player_dist_walk':float} ) #Load aggregate data set for 3rd aggregate data file\n",
    "dfK3 = pd.read_csv('PUBG_DeathAndAggregate_Data/kill_match_stats_final_3.csv', dtype = {'killed_by':str, 'killer_name':str, 'killer_placement':float, 'killer_position_x':float, 'killer_position_y':float, 'map':str, 'match_id':str, 'victim_name':str, 'victim_placement':float, 'victim_position_x':float, 'victim_position_y':float} ) #Load kill data set for 3rd kill data file\n",
    "#dfA4 = pd.read_csv('PUBG_DeathAndAggregate_Data/agg_match_stats_4.csv', dtype = {'match_id':str, 'date':str, 'game_size':float, 'match_mode':str, 'party_size':float, 'player_name':str, 'team_id':str, 'team_placement':int, 'player_kills':float, 'player_dbno':float, 'player_assists':float, 'player_dmg':float, 'player_dist_ride':float, 'player_dist_walk':float} ) #Load aggregate data set for 4th aggregate data file\n",
    "#dfK4 = pd.read_csv('PUBG_DeathAndAggregate_Data/kill_match_stats_final_4.csv', dtype = {'killed_by':str, 'killer_name':str, 'killer_placement':float, 'killer_position_x':float, 'killer_position_y':float, 'map':str, 'match_id':str, 'victim_name':str, 'victim_placement':float, 'victim_position_x':float, 'victim_position_y':float} ) #Load kill data set for 4th kill data file\n",
    "#dfA5 = pd.read_csv('PUBG_DeathAndAggregate_Data/agg_match_stats_5.csv', dtype = {'match_id':str, 'date':str, 'game_size':float, 'match_mode':str, 'party_size':float, 'player_name':str, 'team_id':str, 'team_placement':int, 'player_kills':float, 'player_dbno':float, 'player_assists':float, 'player_dmg':float, 'player_dist_ride':float, 'player_dist_walk':float} ) #Load aggregate data set for 5th aggregate data file\n",
    "#dfK5 = pd.read_csv('PUBG_DeathAndAggregate_Data/kill_match_stats_final_5.csv', dtype = {'killed_by':str, 'killer_name':str, 'killer_placement':float, 'killer_position_x':float, 'killer_position_y':float, 'map':str, 'match_id':str, 'victim_name':str, 'victim_placement':float, 'victim_position_x':float, 'victim_position_y':float} ) #Load kill data set for 5th kill data file\n",
    "print('Player death and aggregate data loaded.\\n')\n",
    "\n",
    "print('Data sets done loading.')"
   ]
  },
  {
   "cell_type": "code",
   "execution_count": null,
   "metadata": {},
   "outputs": [],
   "source": [
    "dfA3.head() #Shows summary of aggregate data set"
   ]
  },
  {
   "cell_type": "code",
   "execution_count": null,
   "metadata": {},
   "outputs": [],
   "source": [
    "dfK3.head() #Shows summary of kill data set"
   ]
  },
  {
   "cell_type": "code",
   "execution_count": null,
   "metadata": {},
   "outputs": [],
   "source": [
    "dfA3.corr() #Print correlation matrix for all features in aggregate data set"
   ]
  }
 ],
 "metadata": {
  "kernelspec": {
   "display_name": "Python 3",
   "language": "python",
   "name": "python3"
  },
  "language_info": {
   "codemirror_mode": {
    "name": "ipython",
    "version": 3
   },
   "file_extension": ".py",
   "mimetype": "text/x-python",
   "name": "python",
   "nbconvert_exporter": "python",
   "pygments_lexer": "ipython3",
   "version": "3.6.8"
  }
 },
 "nbformat": 4,
 "nbformat_minor": 2
}
