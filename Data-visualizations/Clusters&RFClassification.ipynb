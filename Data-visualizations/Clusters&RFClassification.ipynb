{
 "cells": [
  {
   "cell_type": "code",
   "execution_count": 4,
   "metadata": {
    "collapsed": true
   },
   "outputs": [],
   "source": [
    "import numpy as np\n",
    "import pandas as pd\n",
    "from matplotlib import pyplot as plt"
   ]
  },
  {
   "cell_type": "code",
   "execution_count": 6,
   "metadata": {
    "collapsed": true
   },
   "outputs": [],
   "source": [
    "local_path = 'pubg-match-deaths/deaths/kill_match_stats_final_0.csv'\n",
    "pubg_death = pd.read_csv(local_path)\n",
    "\n",
    "erangel_Map = pubg_death.loc[(pubg_death[\"map\"]==\"ERANGEL\")]\n",
    "miramar_Map = pubg_death.loc[(pubg_death[\"map\"]==\"MIRAMAR\")]\n",
    "\n",
    "bad_erangel_match_id = list(erangel_Map.loc[erangel_Map[\"killed_by\"]==\"Down and Out\", \"match_id\"].drop_duplicates())\n",
    "solo_erangel = erangel_Map.loc[~erangel_Map[\"match_id\"].isin(bad_erangel_match_id)]\n",
    "\n",
    "bad_miramar_match_id = list(miramar_Map.loc[miramar_Map[\"killed_by\"]==\"Down and Out\", \"match_id\"].drop_duplicates())\n",
    "solo_miramar = miramar_Map.loc[~miramar_Map[\"match_id\"].isin(bad_miramar_match_id)]"
   ]
  },
  {
   "cell_type": "code",
   "execution_count": 7,
   "metadata": {},
   "outputs": [
    {
     "data": {
      "text/html": [
       "<div>\n",
       "<style>\n",
       "    .dataframe thead tr:only-child th {\n",
       "        text-align: right;\n",
       "    }\n",
       "\n",
       "    .dataframe thead th {\n",
       "        text-align: left;\n",
       "    }\n",
       "\n",
       "    .dataframe tbody tr th {\n",
       "        vertical-align: top;\n",
       "    }\n",
       "</style>\n",
       "<table border=\"1\" class=\"dataframe\">\n",
       "  <thead>\n",
       "    <tr style=\"text-align: right;\">\n",
       "      <th></th>\n",
       "      <th>killed_by</th>\n",
       "      <th>killer_name</th>\n",
       "      <th>killer_placement</th>\n",
       "      <th>killer_position_x</th>\n",
       "      <th>killer_position_y</th>\n",
       "      <th>map</th>\n",
       "      <th>match_id</th>\n",
       "      <th>time</th>\n",
       "      <th>victim_name</th>\n",
       "      <th>victim_placement</th>\n",
       "      <th>victim_position_x</th>\n",
       "      <th>victim_position_y</th>\n",
       "    </tr>\n",
       "  </thead>\n",
       "  <tbody>\n",
       "    <tr>\n",
       "      <th>463</th>\n",
       "      <td>P92</td>\n",
       "      <td>Adlerx</td>\n",
       "      <td>51.0</td>\n",
       "      <td>391919.3</td>\n",
       "      <td>235406.2</td>\n",
       "      <td>ERANGEL</td>\n",
       "      <td>2U4GBNA0YmlixJ6lhgS6xB2tqdo7SEhoYyHlVu18akkAzL...</td>\n",
       "      <td>425</td>\n",
       "      <td>Sventy21</td>\n",
       "      <td>59.0</td>\n",
       "      <td>392289.6</td>\n",
       "      <td>235706.1</td>\n",
       "    </tr>\n",
       "    <tr>\n",
       "      <th>464</th>\n",
       "      <td>AKM</td>\n",
       "      <td>CocaCola01</td>\n",
       "      <td>4.0</td>\n",
       "      <td>347226.7</td>\n",
       "      <td>142356.4</td>\n",
       "      <td>ERANGEL</td>\n",
       "      <td>2U4GBNA0YmlixJ6lhgS6xB2tqdo7SEhoYyHlVu18akkAzL...</td>\n",
       "      <td>1477</td>\n",
       "      <td>PNW_Franco17</td>\n",
       "      <td>9.0</td>\n",
       "      <td>345692.8</td>\n",
       "      <td>141435.4</td>\n",
       "    </tr>\n",
       "    <tr>\n",
       "      <th>465</th>\n",
       "      <td>P18C</td>\n",
       "      <td>jprodigy</td>\n",
       "      <td>85.0</td>\n",
       "      <td>421634.0</td>\n",
       "      <td>324678.9</td>\n",
       "      <td>ERANGEL</td>\n",
       "      <td>2U4GBNA0YmlixJ6lhgS6xB2tqdo7SEhoYyHlVu18akkAzL...</td>\n",
       "      <td>126</td>\n",
       "      <td>Eagyl</td>\n",
       "      <td>86.0</td>\n",
       "      <td>421077.3</td>\n",
       "      <td>324661.9</td>\n",
       "    </tr>\n",
       "    <tr>\n",
       "      <th>466</th>\n",
       "      <td>Bluezone</td>\n",
       "      <td>NaN</td>\n",
       "      <td>NaN</td>\n",
       "      <td>NaN</td>\n",
       "      <td>NaN</td>\n",
       "      <td>ERANGEL</td>\n",
       "      <td>2U4GBNA0YmlixJ6lhgS6xB2tqdo7SEhoYyHlVu18akkAzL...</td>\n",
       "      <td>830</td>\n",
       "      <td>Illudian</td>\n",
       "      <td>69.0</td>\n",
       "      <td>0.0</td>\n",
       "      <td>0.0</td>\n",
       "    </tr>\n",
       "    <tr>\n",
       "      <th>467</th>\n",
       "      <td>UMP9</td>\n",
       "      <td>MLBBear</td>\n",
       "      <td>30.0</td>\n",
       "      <td>420148.7</td>\n",
       "      <td>324679.9</td>\n",
       "      <td>ERANGEL</td>\n",
       "      <td>2U4GBNA0YmlixJ6lhgS6xB2tqdo7SEhoYyHlVu18akkAzL...</td>\n",
       "      <td>263</td>\n",
       "      <td>Hastela</td>\n",
       "      <td>71.0</td>\n",
       "      <td>420297.3</td>\n",
       "      <td>326671.7</td>\n",
       "    </tr>\n",
       "  </tbody>\n",
       "</table>\n",
       "</div>"
      ],
      "text/plain": [
       "    killed_by killer_name  killer_placement  killer_position_x  \\\n",
       "463       P92      Adlerx              51.0           391919.3   \n",
       "464       AKM  CocaCola01               4.0           347226.7   \n",
       "465      P18C    jprodigy              85.0           421634.0   \n",
       "466  Bluezone         NaN               NaN                NaN   \n",
       "467      UMP9     MLBBear              30.0           420148.7   \n",
       "\n",
       "     killer_position_y      map  \\\n",
       "463           235406.2  ERANGEL   \n",
       "464           142356.4  ERANGEL   \n",
       "465           324678.9  ERANGEL   \n",
       "466                NaN  ERANGEL   \n",
       "467           324679.9  ERANGEL   \n",
       "\n",
       "                                              match_id  time   victim_name  \\\n",
       "463  2U4GBNA0YmlixJ6lhgS6xB2tqdo7SEhoYyHlVu18akkAzL...   425      Sventy21   \n",
       "464  2U4GBNA0YmlixJ6lhgS6xB2tqdo7SEhoYyHlVu18akkAzL...  1477  PNW_Franco17   \n",
       "465  2U4GBNA0YmlixJ6lhgS6xB2tqdo7SEhoYyHlVu18akkAzL...   126         Eagyl   \n",
       "466  2U4GBNA0YmlixJ6lhgS6xB2tqdo7SEhoYyHlVu18akkAzL...   830      Illudian   \n",
       "467  2U4GBNA0YmlixJ6lhgS6xB2tqdo7SEhoYyHlVu18akkAzL...   263       Hastela   \n",
       "\n",
       "     victim_placement  victim_position_x  victim_position_y  \n",
       "463              59.0           392289.6           235706.1  \n",
       "464               9.0           345692.8           141435.4  \n",
       "465              86.0           421077.3           324661.9  \n",
       "466              69.0                0.0                0.0  \n",
       "467              71.0           420297.3           326671.7  "
      ]
     },
     "execution_count": 7,
     "metadata": {},
     "output_type": "execute_result"
    }
   ],
   "source": [
    "solo_erangel.head()"
   ]
  },
  {
   "cell_type": "code",
   "execution_count": null,
   "metadata": {
    "collapsed": true
   },
   "outputs": [],
   "source": [
    "# fig, ax = plt.subplots(figsize = (15,15))\n",
    "# im = plt.imread('pubg-match-deaths/erangel.jpg')\n",
    "# ax.imshow(im, extent=[0, 813000, -810000, 0], zorder=1)\n",
    "# ax.set_title(\"Erangel Solo Deaths\", fontsize=20)\n",
    "# ax.set_axis_off()\n",
    "\n",
    "# ax.scatter(x=list(solo_erangel['victim_position_x']), y=list(-1*solo_erangel['victim_position_y']), s=0.5, color=\"mediumspringgreen\", alpha=0.5, zorder=2)\n",
    "\n",
    "# plt.show()"
   ]
  },
  {
   "cell_type": "code",
   "execution_count": null,
   "metadata": {
    "collapsed": true
   },
   "outputs": [],
   "source": [
    "local_path = 'pubg-match-deaths/aggregate/agg_match_stats_0.csv'b\n",
    "pubg_death = pd.read_csv(local_path)"
   ]
  },
  {
   "cell_type": "code",
   "execution_count": null,
   "metadata": {
    "collapsed": true
   },
   "outputs": [],
   "source": [
    "pubg_death.head()"
   ]
  },
  {
   "cell_type": "code",
   "execution_count": null,
   "metadata": {
    "collapsed": true
   },
   "outputs": [],
   "source": []
  }
 ],
 "metadata": {
  "kernelspec": {
   "display_name": "Python 3",
   "language": "python",
   "name": "python3"
  },
  "language_info": {
   "codemirror_mode": {
    "name": "ipython",
    "version": 3
   },
   "file_extension": ".py",
   "mimetype": "text/x-python",
   "name": "python",
   "nbconvert_exporter": "python",
   "pygments_lexer": "ipython3",
   "version": "3.6.3"
  }
 },
 "nbformat": 4,
 "nbformat_minor": 2
}
